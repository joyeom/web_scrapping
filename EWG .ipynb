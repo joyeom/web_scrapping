{
 "cells": [
  {
   "cell_type": "code",
   "execution_count": 4,
   "id": "86d666bd",
   "metadata": {},
   "outputs": [],
   "source": [
    "import requests\n",
    "from requests import get\n",
    "import pandas as pd\n",
    "import bs4 as bs\n",
    "import re\n",
    "import numpy as np\n"
   ]
  },
  {
   "cell_type": "code",
   "execution_count": 23,
   "id": "2e234116",
   "metadata": {},
   "outputs": [],
   "source": [
    "urls = []\n",
    "urls.append(\"https://www.ewg.org/skindeep/search/?utf8=%E2%9C%93&search=hand+cream\")\n",
    "\n",
    "for i in range(2, 71):\n",
    "    urls.append(\"https://www.ewg.org/skindeep/search/?page={}&search=hand+cream&utf8=%E2%9C%93\".format(i))"
   ]
  },
  {
   "cell_type": "code",
   "execution_count": 28,
   "id": "3e8a2b72",
   "metadata": {},
   "outputs": [
    {
     "data": {
      "text/plain": [
       "636"
      ]
     },
     "execution_count": 28,
     "metadata": {},
     "output_type": "execute_result"
    }
   ],
   "source": [
    "len(sites)"
   ]
  },
  {
   "cell_type": "code",
   "execution_count": 29,
   "id": "f843b5a0",
   "metadata": {},
   "outputs": [],
   "source": [
    "for m in urls: \n",
    "    main_site = m\n",
    "    main_html = requests.get(main_site)\n",
    "    #print(html.status_code)\n",
    "    main_content = main_html.content\n",
    "    main_soup = bs.BeautifulSoup(main_content,'html.parser')\n",
    "    product_tile = main_soup.find_all(class_ = \"product-tile\")\n",
    "    for p in product_tile :\n",
    "        sites.append(p.a['href'])"
   ]
  },
  {
   "cell_type": "code",
   "execution_count": 30,
   "id": "8580bf7e",
   "metadata": {},
   "outputs": [],
   "source": [
    "def item_info(t):\n",
    "    overview = t.find(\"tbody\").find_all(\"tr\", \"ingredient-overview-tr\")\n",
    "    wrapper = t.find(\"tbody\").find_all(\"tr\", \"ingredient-more-info-wrapper\")\n",
    "    return overview, wrapper\n"
   ]
  },
  {
   "cell_type": "code",
   "execution_count": 31,
   "id": "0ad26cf8",
   "metadata": {},
   "outputs": [],
   "source": [
    "def extract_more_info(more_info) :\n",
    "    function = []\n",
    "    concern = []\n",
    "    for w in more_info :\n",
    "        td = w.find_all(\"td\")\n",
    "        has_func = False\n",
    "        has_conc = False\n",
    "        for i in range(len(td)) :\n",
    "            if td[i].get_text() == 'FUNCTION(S)':\n",
    "                function.append(td[i+1].get_text())\n",
    "                has_func = True\n",
    "            if td[i].get_text() == 'CONCERNS':\n",
    "                concern.append(td[i+1].get_text())\n",
    "                has_conc = True\n",
    "        if not has_func:\n",
    "            function.append('NA')\n",
    "        if not has_conc:\n",
    "            concern.append('NA')\n",
    "    \n",
    "    return concern,function\n",
    "                "
   ]
  },
  {
   "cell_type": "code",
   "execution_count": 32,
   "id": "a7762c88",
   "metadata": {
    "scrolled": false
   },
   "outputs": [],
   "source": [
    "def extract_name(resultSet):\n",
    "    names = []\n",
    "    name = []\n",
    "    for i in range(len(resultSet)):\n",
    "        name.append(resultSet[i].find(class_ = \"td-ingredient-interior\").getText())\n",
    "    return name\n"
   ]
  },
  {
   "cell_type": "code",
   "execution_count": 33,
   "id": "55060b01",
   "metadata": {},
   "outputs": [],
   "source": [
    "def get_all_info(html):\n",
    "    content = html.content\n",
    "    soup = bs.BeautifulSoup(content,'html.parser')\n",
    "    table = soup.find(\"table\", {\"class\": \"table-ingredient-concerns\"})\n",
    "\n",
    "    ingredient_overview, ingredient_wrapper = item_info(table)\n",
    "\n",
    "    name = extract_name(ingredient_overview)\n",
    "    concern, function = extract_more_info(ingredient_wrapper)\n",
    "#     print(\"name len: \" + str(len(name)) + \" conc len: \" + str(len(concern)) + \" func len: \" + str(len(function)))\n",
    "    return name, concern, function\n",
    "    \n",
    "\n",
    "    "
   ]
  },
  {
   "cell_type": "code",
   "execution_count": 35,
   "id": "7f21f0b4",
   "metadata": {
    "scrolled": true
   },
   "outputs": [],
   "source": [
    "name,concern,function = [],[],[]\n",
    "for site in sites:\n",
    "    html = requests.get(site)\n",
    "    if html.status_code != 200:\n",
    "        continue\n",
    "    else:\n",
    "        try:\n",
    "            name.extend(get_all_info(html)[0])\n",
    "            concern.extend(get_all_info(html)[1])\n",
    "            function.extend(get_all_info(html)[2])\n",
    "        except:\n",
    "            continue"
   ]
  },
  {
   "cell_type": "code",
   "execution_count": 36,
   "id": "6a0cf3c9",
   "metadata": {},
   "outputs": [
    {
     "data": {
      "text/plain": [
       "(1524, 1524, 1524)"
      ]
     },
     "execution_count": 36,
     "metadata": {},
     "output_type": "execute_result"
    }
   ],
   "source": [
    "len(name),len(concern),len(function)"
   ]
  },
  {
   "cell_type": "code",
   "execution_count": null,
   "id": "17ddbfe2",
   "metadata": {
    "scrolled": true
   },
   "outputs": [],
   "source": [
    "ingredient = pd.DataFrame({\n",
    "    'name': name,\n",
    "    'concern':concern,\n",
    "    'function': function\n",
    "})\n",
    "ingredient"
   ]
  },
  {
   "cell_type": "code",
   "execution_count": null,
   "id": "e77ad181",
   "metadata": {},
   "outputs": [],
   "source": [
    "ingredient.to_csv(r'/Users/jihoyeom/Desktop/ingredient.csv', index = False, header=True)"
   ]
  },
  {
   "cell_type": "code",
   "execution_count": null,
   "id": "12835588",
   "metadata": {},
   "outputs": [],
   "source": []
  },
  {
   "cell_type": "code",
   "execution_count": null,
   "id": "b5f14f5c",
   "metadata": {},
   "outputs": [],
   "source": []
  },
  {
   "cell_type": "code",
   "execution_count": null,
   "id": "7f0f97d9",
   "metadata": {},
   "outputs": [],
   "source": []
  },
  {
   "cell_type": "code",
   "execution_count": null,
   "id": "052057df",
   "metadata": {},
   "outputs": [],
   "source": []
  },
  {
   "cell_type": "code",
   "execution_count": null,
   "id": "80aab36a",
   "metadata": {},
   "outputs": [],
   "source": []
  },
  {
   "cell_type": "code",
   "execution_count": null,
   "id": "307a745f",
   "metadata": {},
   "outputs": [],
   "source": []
  },
  {
   "cell_type": "code",
   "execution_count": null,
   "id": "895c2e19",
   "metadata": {},
   "outputs": [],
   "source": []
  },
  {
   "cell_type": "code",
   "execution_count": null,
   "id": "70bbee03",
   "metadata": {},
   "outputs": [],
   "source": []
  },
  {
   "cell_type": "code",
   "execution_count": null,
   "id": "4c9fbcf7",
   "metadata": {},
   "outputs": [],
   "source": []
  },
  {
   "cell_type": "code",
   "execution_count": null,
   "id": "7fe45aad",
   "metadata": {},
   "outputs": [],
   "source": []
  }
 ],
 "metadata": {
  "kernelspec": {
   "display_name": "Python 3 (ipykernel)",
   "language": "python",
   "name": "python3"
  },
  "language_info": {
   "codemirror_mode": {
    "name": "ipython",
    "version": 3
   },
   "file_extension": ".py",
   "mimetype": "text/x-python",
   "name": "python",
   "nbconvert_exporter": "python",
   "pygments_lexer": "ipython3",
   "version": "3.9.7"
  }
 },
 "nbformat": 4,
 "nbformat_minor": 5
}
